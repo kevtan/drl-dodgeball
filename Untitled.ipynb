{
 "cells": [
  {
   "cell_type": "code",
   "execution_count": 94,
   "metadata": {},
   "outputs": [],
   "source": [
    "import torch\n",
    "import torch.nn as nn\n",
    "import torch.optim as optim\n",
    "import torch.nn.functional as F\n",
    "import tqdm\n",
    "from replay_memory import ReplayMemory\n",
    "import random\n",
    "import pdb"
   ]
  },
  {
   "cell_type": "markdown",
   "metadata": {},
   "source": [
    "## Policy Network\n",
    "* We have 7 ray angles per ray scan. Each ray angle contributes a length 5 sublist containing [hit_block, hit_goal, hit_wall, hit_anything, distance_if_hit]\n",
    "* We have 2 ray scans, so the agent observes a total of 70 data elements every timestep\n",
    "* Vector observation space (size 70)\n",
    "* Action space (size 7): 0, 1, ..., 6\n",
    "\n",
    "Pytorch backpropagation notes:\n",
    "`loss.backward()` computes `dloss/dx` for every parameter `x` which has `requires_grad=True`, and *only* computes gradients! These are accumulated into `x.grad` for every parameter `x`. In pseudo-code:\n",
    "\n",
    "```\n",
    "x.grad += dloss/dx\n",
    "```\n",
    "`optimizer.step` updates the value of `x` using the gradient `x.grad`. For example, the SGD optimizer performs:\n",
    "\n",
    "```\n",
    "x += -lr * x.grad\n",
    "```\n",
    "`optimizer.zero_grad()` clears `x.grad` for every parameter `x` in the optimizer. It’s important to call this before `loss.backward()`, otherwise you’ll accumulate the gradients from multiple passes."
   ]
  },
  {
   "cell_type": "code",
   "execution_count": 50,
   "metadata": {},
   "outputs": [],
   "source": [
    "class DQN(nn.Module):\n",
    "    \n",
    "    def __init__(self, vector_size, action_size):\n",
    "        super().__init__()\n",
    "        self.fc1 = nn.Linear(in_features=vector_size, out_features=20)\n",
    "        self.fc2 = nn.Linear(in_features=20, out_features=10)\n",
    "        self.out = nn.Linear(in_features=10, out_features=action_size)\n",
    "    \n",
    "    def forward(self, t):\n",
    "        t = F.relu(self.fc1(t))\n",
    "        t = F.relu(self.fc2(t))\n",
    "        t = self.out(t)\n",
    "        return t"
   ]
  },
  {
   "cell_type": "code",
   "execution_count": 37,
   "metadata": {},
   "outputs": [],
   "source": [
    "policynet = DQN(10, 4)"
   ]
  },
  {
   "cell_type": "code",
   "execution_count": 62,
   "metadata": {},
   "outputs": [],
   "source": [
    "\n",
    "# zero out gradient buffers\n",
    "policynet.zero_grad()"
   ]
  },
  {
   "cell_type": "code",
   "execution_count": 73,
   "metadata": {},
   "outputs": [
    {
     "name": "stdout",
     "output_type": "stream",
     "text": [
      "<MseLossBackward object at 0x129e4f0d0>\n",
      "<AddBackward0 object at 0x12a0106d0>\n",
      "<SqueezeBackward3 object at 0x129e4f0d0>\n"
     ]
    }
   ],
   "source": [
    "print(loss.grad_fn)  # MSELoss\n",
    "print(loss.grad_fn.next_functions[0][0])  # Linear\n",
    "print(loss.grad_fn.next_functions[0][0].next_functions[0][0])  # ReLU"
   ]
  },
  {
   "cell_type": "code",
   "execution_count": 89,
   "metadata": {},
   "outputs": [
    {
     "name": "stdout",
     "output_type": "stream",
     "text": [
      "tensor([ 0.0391,  0.1244, -0.4158,  0.0000,  0.0000,  0.0000,  0.2490,  0.2530,\n",
      "        -0.2754,  0.3704,  0.0065,  0.0000, -0.0622, -0.0616,  0.0000,  0.3700,\n",
      "        -0.0037,  0.0000, -0.2078,  0.0000])\n",
      "tensor([ 0.0469,  0.1493, -0.4989,  0.0000,  0.0000,  0.0000,  0.2988,  0.3036,\n",
      "        -0.3304,  0.4444,  0.0078,  0.0000, -0.0747, -0.0739,  0.0000,  0.4440,\n",
      "        -0.0045,  0.0000, -0.2494,  0.0000])\n"
     ]
    }
   ],
   "source": [
    "# example gradient buffers\n",
    "print(policynet.fc1.bias.grad)\n",
    "tensor = torch.zeros((10,))\n",
    "out = policynet(tensor)\n",
    "\n",
    "# compute loss wrt target\n",
    "criterion = nn.MSELoss()\n",
    "target = torch.ones((4,))\n",
    "loss = criterion(out, target)\n",
    "\n",
    "# perform gradient descent\n",
    "loss.backward()\n",
    "print(policynet.fc1.bias.grad)"
   ]
  },
  {
   "cell_type": "markdown",
   "metadata": {},
   "source": [
    "## Hyperparameters"
   ]
  },
  {
   "cell_type": "code",
   "execution_count": 93,
   "metadata": {},
   "outputs": [],
   "source": [
    "num_episodes = 10\n",
    "max_timesteps = 10\n",
    "discount = 0.99\n",
    "exploration_rate = 0.3"
   ]
  },
  {
   "cell_type": "markdown",
   "metadata": {},
   "source": [
    "## Training"
   ]
  },
  {
   "cell_type": "code",
   "execution_count": 48,
   "metadata": {},
   "outputs": [
    {
     "ename": "NameError",
     "evalue": "name 'tqdm' is not defined",
     "output_type": "error",
     "traceback": [
      "\u001b[0;31m---------------------------------------------------------------------------\u001b[0m",
      "\u001b[0;31mNameError\u001b[0m                                 Traceback (most recent call last)",
      "\u001b[0;32m<ipython-input-48-8fd4e22657e2>\u001b[0m in \u001b[0;36m<module>\u001b[0;34m\u001b[0m\n\u001b[1;32m      1\u001b[0m \u001b[0mrewards_all_episodes\u001b[0m \u001b[0;34m=\u001b[0m \u001b[0;34m[\u001b[0m\u001b[0;34m]\u001b[0m\u001b[0;34m\u001b[0m\u001b[0;34m\u001b[0m\u001b[0m\n\u001b[0;32m----> 2\u001b[0;31m \u001b[0;32mfor\u001b[0m \u001b[0m_\u001b[0m \u001b[0;32min\u001b[0m \u001b[0mtqdm\u001b[0m\u001b[0;34m.\u001b[0m\u001b[0mtqdm\u001b[0m\u001b[0;34m(\u001b[0m\u001b[0mrange\u001b[0m\u001b[0;34m(\u001b[0m\u001b[0mmax_episodes\u001b[0m\u001b[0;34m)\u001b[0m\u001b[0;34m)\u001b[0m\u001b[0;34m:\u001b[0m\u001b[0;34m\u001b[0m\u001b[0;34m\u001b[0m\u001b[0m\n\u001b[0m\u001b[1;32m      3\u001b[0m     \u001b[0mrewards_current_episode\u001b[0m \u001b[0;34m=\u001b[0m \u001b[0;36m0\u001b[0m\u001b[0;34m\u001b[0m\u001b[0;34m\u001b[0m\u001b[0m\n\u001b[1;32m      4\u001b[0m     \u001b[0minfo\u001b[0m \u001b[0;34m=\u001b[0m \u001b[0menv\u001b[0m\u001b[0;34m.\u001b[0m\u001b[0mstep\u001b[0m\u001b[0;34m(\u001b[0m\u001b[0;34m)\u001b[0m\u001b[0;34m[\u001b[0m\u001b[0;34m\"PushBlock\"\u001b[0m\u001b[0;34m]\u001b[0m\u001b[0;34m\u001b[0m\u001b[0;34m\u001b[0m\u001b[0m\n\u001b[1;32m      5\u001b[0m     \u001b[0;32mfor\u001b[0m \u001b[0m_\u001b[0m \u001b[0;32min\u001b[0m \u001b[0mrange\u001b[0m\u001b[0;34m(\u001b[0m\u001b[0mmax_timestep\u001b[0m\u001b[0;34m)\u001b[0m\u001b[0;34m:\u001b[0m\u001b[0;34m\u001b[0m\u001b[0;34m\u001b[0m\u001b[0m\n",
      "\u001b[0;31mNameError\u001b[0m: name 'tqdm' is not defined"
     ]
    }
   ],
   "source": [
    "rewards_all_episodes = []\n",
    "\n",
    "    rewards_current_episode = 0\n",
    "    info = env.step()[\"PushBlock\"]\n",
    "    for _ in range(max_timestep):\n",
    "        reward = info.rewards[agent]\n",
    "        rewards_current_episode += reward\n",
    "        state = info.vector_observations[agent]\n",
    "        agent.give_feedback(reward, state)\n",
    "        action = agent.get_action(state)\n",
    "        info = env.step(action)[\"PushBlock\"]\n",
    "    rewards_all_episodes.append(rewards_current_episode)\n",
    "    env.reset(train_mode=True)"
   ]
  },
  {
   "cell_type": "code",
   "execution_count": null,
   "metadata": {},
   "outputs": [],
   "source": [
    "env = UnityEnvironment(file_name=\"environment-binaries/PushBlock\")"
   ]
  },
  {
   "cell_type": "code",
   "execution_count": 95,
   "metadata": {},
   "outputs": [],
   "source": [
    "actions = [0, 1, 2, 3, 4, 5, 6]"
   ]
  },
  {
   "cell_type": "code",
   "execution_count": 96,
   "metadata": {},
   "outputs": [],
   "source": [
    "dqn = DQN(70, 7)"
   ]
  },
  {
   "cell_type": "code",
   "execution_count": null,
   "metadata": {},
   "outputs": [],
   "source": [
    "for _ in tqdm.tqdm(range(num_episodes)):\n",
    "    # initialize start state\n",
    "    info = env.step()\n",
    "    for _ in range(max_timesteps):\n",
    "        # select an action (epsilon greedy)\n",
    "        if random.random() < exploration_rate:\n",
    "            return random.choice(actions)\n",
    "        else:\n",
    "            output = dqn()\n",
    "            return torch.argmax()"
   ]
  }
 ],
 "metadata": {
  "kernelspec": {
   "display_name": "Python 3",
   "language": "python",
   "name": "python3"
  },
  "language_info": {
   "codemirror_mode": {
    "name": "ipython",
    "version": 3
   },
   "file_extension": ".py",
   "mimetype": "text/x-python",
   "name": "python",
   "nbconvert_exporter": "python",
   "pygments_lexer": "ipython3",
   "version": "3.7.3"
  }
 },
 "nbformat": 4,
 "nbformat_minor": 4
}
