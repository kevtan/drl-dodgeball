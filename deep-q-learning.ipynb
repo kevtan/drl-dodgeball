{
 "cells": [
  {
   "cell_type": "code",
   "execution_count": 1,
   "metadata": {},
   "outputs": [],
   "source": [
    "import torch\n",
    "import torch.nn as nn\n",
    "import torch.optim as optim\n",
    "import torch.nn.functional as F\n",
    "import tqdm\n",
    "from replay_memory import ReplayMemory\n",
    "import random\n",
    "import pdb\n",
    "import time\n",
    "import math\n",
    "from mlagents.envs.environment import UnityEnvironment"
   ]
  },
  {
   "cell_type": "markdown",
   "metadata": {},
   "source": [
    "## Policy Network\n",
    "\n",
    "### Playing Atari with Deep Reinforcement Learning\n",
    "https://www.cs.toronto.edu/~vmnih/docs/dqn.pdf\n",
    "\n",
    "There are several possible ways of parameterizing Q using a neural network. Since Q maps history-action pairs to scalar estimates of their Q-value, the history and the action have been used as inputs to the neural network by some previous approaches [20, 12]. The main drawback of this type of architecture is that a separate forward pass is required to compute the Q-value of each action, resulting in a cost that scales linearly with the number of actions. We instead use an architecture in which there is a separate output unit for each possible action, and only the state representation is an input to the neural network. The outputs correspond to the predicted Q-values of the individual action for the input state. The main advantage of this type of architecture is the ability to compute Q-values for all possible actions in a given state with only a single forward pass through the network.\n",
    "\n",
    "We now describe the exact architecture used for all seven Atari games. The input to the neural\n",
    "network consists is an 84 × 84 × 4 image produced by φ. The first hidden layer convolves 16 8 × 8\n",
    "filters with stride 4 with the input image and applies a rectifier nonlinearity [10, 18]. The second\n",
    "hidden layer convolves 32 4 × 4 filters with stride 2, again followed by a rectifier nonlinearity. The\n",
    "final hidden layer is fully-connected and consists of 256 rectifier units. The output layer is a fully-connected linear layer with a single output for each valid action. The number of valid actions varied\n",
    "between 4 and 18 on the games we considered. We refer to convolutional networks trained with our\n",
    "approach as Deep Q-Networks (DQN).\n",
    "\n",
    "### Our Networks\n",
    "\n",
    "#### Vector Observations (PushBlock No-Stack Small)\n",
    "* We have 7 ray angles per ray scan. Each ray angle contributes a length 5 sublist containing data of the form [hit_block, hit_goal, hit_wall, hit_anything, distance_if_hit]. This is essentially a one-hot representation of the the objects in the environment.\n",
    "* We have 2 ray scans at different angles, so the agent observes a total of **70 data elements every timestep**.\n",
    "* Vector observation space (size 70).\n",
    "* Action space (size 7): 0, 1, ..., 6.\n",
    "\n",
    "Based on the work of Mnih et al., for our Q-network that uses vector observations (basically pre-extracted features), we are going to have 1 hidden layer (with 100 rectified units) and 1 output layer (with 7 units corresponding to the 7 actions in the action space).\n",
    "\n",
    "#### Visual Observations (PushBlock No-Stack Small)\n"
   ]
  },
  {
   "cell_type": "code",
   "execution_count": 2,
   "metadata": {},
   "outputs": [],
   "source": [
    "class PushBlockNoStackSmallNetwork(nn.Module):\n",
    "    \n",
    "    def __init__(self):\n",
    "        super(PushBlockNoStackSmallNetwork, self).__init__()\n",
    "        self.hidden = nn.Linear(210, 100)\n",
    "        self.out = nn.Linear(100, 7)\n",
    "    \n",
    "    def forward(self, state):\n",
    "        temp = F.relu(self.hidden(state))\n",
    "        return self.out(temp)"
   ]
  },
  {
   "cell_type": "markdown",
   "metadata": {},
   "source": [
    "## Training\n",
    "\n",
    "### Playing Atari with Deep Reinforcement Learning\n",
    "https://www.cs.toronto.edu/~vmnih/docs/dqn.pdf\n",
    "\n",
    "In these experiments, we used the RMSProp algorithm with minibatches of size 32. The behavior\n",
    "policy during training was epsilon-greedy with epsilon annealed linearly from 1 to 0.1 over the first million\n",
    "frames, and fixed at 0.1 thereafter. We trained for a total of 10 million frames and used a replay\n",
    "memory of one million most recent frames.\n",
    "\n",
    "Following previous approaches to playing Atari games, we also use a simple frame-skipping technique [3]. More precisely, the agent sees and selects actions on every kth frame instead of every frame, and its last action is repeated on skipped frames. Since running the emulator forward for one step requires much less computation than having the agent select an action, this technique allows the agent to play roughly k times more games without significantly increasing the runtime. We use k = 4 for all games except Space Invaders where we noticed that using k = 4 makes the lasers invisible because of the period at which they blink. We used k = 3 to make the lasers visible and this change was the only difference in hyperparameter values between any of the games."
   ]
  },
  {
   "cell_type": "code",
   "execution_count": 19,
   "metadata": {},
   "outputs": [],
   "source": [
    "num_episodes = 1000\n",
    "num_timesteps = 2000\n",
    "discount = 0.99\n",
    "exploration_rate = 0.3"
   ]
  },
  {
   "cell_type": "code",
   "execution_count": 20,
   "metadata": {},
   "outputs": [],
   "source": [
    "def extract_vec_obs(brain_info, brain_name):\n",
    "    \"\"\"Extract vector observations from a BrainInfo object.\"\"\"\n",
    "    vec_obs = brain_info[brain_name].vector_observations.flatten()\n",
    "    return torch.from_numpy(vec_obs).float()\n",
    "\n",
    "def extract_reward(brain_info, brain_name, brain_num):\n",
    "    \"\"\"Extract reward from BrainInfo object.\"\"\"\n",
    "    return brain_info[brain_name].rewards[brain_num]"
   ]
  },
  {
   "cell_type": "code",
   "execution_count": 21,
   "metadata": {},
   "outputs": [
    {
     "name": "stderr",
     "output_type": "stream",
     "text": [
      "INFO:mlagents.envs:\n",
      "'Academy' started successfully!\n",
      "Unity Academy name: Academy\n",
      "        Number of Training Brains : 0\n",
      "        Reset Parameters :\n",
      "\t\tblock_scale -> 2.0\n",
      "\t\tstatic_friction -> 0.0\n",
      "\t\tdynamic_friction -> 0.0\n",
      "\t\tblock_drag -> 0.5\n",
      "\n"
     ]
    }
   ],
   "source": [
    "env = UnityEnvironment(file_name=\"environment-binaries/PushBlock-30.app\")\n",
    "brain_name = \"PushBlock\""
   ]
  },
  {
   "cell_type": "code",
   "execution_count": 22,
   "metadata": {},
   "outputs": [],
   "source": [
    "action_space = [0, 1, 2, 3, 4, 5, 6]"
   ]
  },
  {
   "cell_type": "code",
   "execution_count": 27,
   "metadata": {},
   "outputs": [],
   "source": [
    "qnets = {\n",
    "    \"PushBlock\": PushBlockNoStackSmallNetwork()\n",
    "}\n",
    "optimizers = {k: optim.SGD(v.parameters(), 0.1, weight_decay=0.98) for k, v in qnets.items()}"
   ]
  },
  {
   "cell_type": "code",
   "execution_count": null,
   "metadata": {},
   "outputs": [
    {
     "name": "stdout",
     "output_type": "stream",
     "text": [
      "> <ipython-input-33-2eb065cc1a78>(17)<module>()->None\n",
      "-> action = torch.argmax(q_values).item()\n"
     ]
    }
   ],
   "source": [
    "for _ in range(num_episodes):\n",
    "    # initialize start state\n",
    "    old_braininfos = env.step()\n",
    "    for _ in range(num_timesteps):\n",
    "        # choose actions for all brains and agents\n",
    "        actions = {} # brain name -> vector of actions\n",
    "        for brain in braininfos:\n",
    "            vector_observations = old_braininfos[brain].vector_observations\n",
    "            brain_actions = []\n",
    "            for i in range(len(braininfos[brain].agents)):\n",
    "                if random.random() < exploration_rate:\n",
    "                    action = random.choice(action_space)\n",
    "                else:\n",
    "                    vector_observation = torch.from_numpy(vector_observations[i]).float()\n",
    "                    q_values = qnets[brain](vector_observation)\n",
    "                    action = torch.argmax(q_values).item()\n",
    "                brain_actions.append(action)\n",
    "            actions[brain] = brain_actions\n",
    "        # execute action\n",
    "        breakpoint()\n",
    "        new_braininfos = env.step(actions)\n",
    "        # update weights for all policy networks\n",
    "        for brain in braininfos:\n",
    "            network = qnets[brain]\n",
    "            # take into account experiences from all agents using this network\n",
    "            for i in range(len(braininfos[brain].agents)):\n",
    "                old_state = torch.from_numpy(old_braininfos[brain].vector_observations[i]).float()\n",
    "                action = actions[brain][i]\n",
    "                breakpoint()\n",
    "                prediction = network(old_state)[action]\n",
    "                new_state = new_braininfos.vector_observations[i]\n",
    "                breakpoint()\n",
    "                reward = new_braininfos.rewards\n",
    "                reward = extract_reward(brain_infos, brain_name, i)\n",
    "                target = reward + discount * max(qnet(next_state))\n",
    "                loss = (target - prediction) ** 2\n",
    "                loss.backward()\n",
    "                # update network parameters\n",
    "                optimizer.step()\n",
    "                optimizer.zero_grad()\n",
    "        old_braininfos = new_braininfos"
   ]
  },
  {
   "cell_type": "code",
   "execution_count": 18,
   "metadata": {},
   "outputs": [
    {
     "name": "stderr",
     "output_type": "stream",
     "text": [
      "INFO:mlagents.envs:Environment shut down with return code 0.\n"
     ]
    }
   ],
   "source": [
    "env.close()"
   ]
  },
  {
   "cell_type": "markdown",
   "metadata": {},
   "source": [
    "## Training Evaluation Metrics\n",
    "\n",
    "### Playing Atari with Deep Reinforcement Learning\n",
    "https://www.cs.toronto.edu/~vmnih/docs/dqn.pdf\n",
    "\n",
    "In supervised learning, one can easily track the performance of a model during training by evaluating\n",
    "it on the training and validation sets. In reinforcement learning, however, accurately evaluating the\n",
    "progress of an agent during training can be challenging. Since our evaluation metric, as suggested\n",
    "by [3], is the total reward the agent collects in an episode or game averaged over a number of\n",
    "games, we periodically compute it during training. **The average total reward metric tends to be very\n",
    "noisy** because small changes to the weights of a policy can lead to large changes in the distribution of\n",
    "states the policy visits . The leftmost two plots in figure 2 show how the average total reward evolves\n",
    "during training on the games Seaquest and Breakout. Both averaged reward plots are indeed quite\n",
    "noisy, giving one the impression that the learning algorithm is not making steady progress. **Another,\n",
    "more stable, metric is the policy’s estimated action-value function Q**, which provides an estimate of\n",
    "how much discounted reward the agent can obtain by following its policy from any given state. We\n",
    "collect a fixed set of states by running a random policy before training starts and track the average\n",
    "of the maximum2 predicted Q for these states. The two rightmost plots in figure 2 show that average\n",
    "predicted Q increases much more smoothly than the average total reward obtained by the agent and\n",
    "plotting the same metrics on the other five games produces similarly smooth curves. In addition\n",
    "to seeing relatively smooth improvement to predicted Q during training we did not experience any\n",
    "divergence issues in any of our experiments. This suggests that, despite lacking any theoretical\n",
    "convergence guarantees, our method is able to train large neural networks using a reinforcement\n",
    "learning signal and stochastic gradient descent in a stable manner."
   ]
  },
  {
   "cell_type": "code",
   "execution_count": null,
   "metadata": {},
   "outputs": [],
   "source": []
  }
 ],
 "metadata": {
  "kernel_info": {
   "name": "python3"
  },
  "kernelspec": {
   "display_name": "Python 3",
   "language": "python",
   "name": "python3"
  },
  "language_info": {
   "codemirror_mode": {
    "name": "ipython",
    "version": 3
   },
   "file_extension": ".py",
   "mimetype": "text/x-python",
   "name": "python",
   "nbconvert_exporter": "python",
   "pygments_lexer": "ipython3",
   "version": "3.7.4"
  },
  "nteract": {
   "version": "0.15.0"
  }
 },
 "nbformat": 4,
 "nbformat_minor": 4
}
