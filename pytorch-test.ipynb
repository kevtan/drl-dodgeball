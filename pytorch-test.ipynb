{
 "cells": [
  {
   "cell_type": "code",
   "execution_count": 3,
   "metadata": {},
   "outputs": [],
   "source": [
    "import torch\n",
    "import torch.nn as nn\n",
    "import torch.nn.functional as F\n",
    "import torch.autograd\n",
    "from torchvision import datasets, transforms\n",
    "import termcolor\n",
    "import torch.utils.data as data\n",
    "import torch.optim as optim\n",
    "import random"
   ]
  },
  {
   "cell_type": "markdown",
   "metadata": {},
   "source": [
    "## Create Training Data"
   ]
  },
  {
   "cell_type": "code",
   "execution_count": 39,
   "metadata": {},
   "outputs": [],
   "source": [
    "xs = torch.rand(1000)\n",
    "ys = 2 * xs"
   ]
  },
  {
   "cell_type": "markdown",
   "metadata": {},
   "source": [
    "## Instantiate Network"
   ]
  },
  {
   "cell_type": "code",
   "execution_count": 35,
   "metadata": {},
   "outputs": [],
   "source": [
    "class MyNetwork(nn.Module):\n",
    "    \n",
    "    def __init__(self):\n",
    "        \"\"\"Define the network architecture.\"\"\"\n",
    "        super(MyNetwork, self).__init__()\n",
    "        self.fc = nn.Linear(1, 1, False)\n",
    "\n",
    "    def forward(self, data):\n",
    "        \"\"\"Defines what inference means.\"\"\"\n",
    "        return self.fc(data)"
   ]
  },
  {
   "cell_type": "code",
   "execution_count": 36,
   "metadata": {},
   "outputs": [
    {
     "name": "stdout",
     "output_type": "stream",
     "text": [
      "MyNetwork(\n",
      "  (fc): Linear(in_features=1, out_features=1, bias=False)\n",
      ")\n"
     ]
    }
   ],
   "source": [
    "N = MyNetwork()\n",
    "print(N)"
   ]
  },
  {
   "cell_type": "code",
   "execution_count": 48,
   "metadata": {},
   "outputs": [
    {
     "name": "stdout",
     "output_type": "stream",
     "text": [
      "\u001b[7mLayer 0 Weights\u001b[0m\n",
      "Parameter containing:\n",
      "tensor([[2.0000]], requires_grad=True)\n"
     ]
    }
   ],
   "source": [
    "for index, param in enumerate(N.parameters()):\n",
    "    param_type = \"Weights\" if index % 2 == 0 else \"Bias\"\n",
    "    print(termcolor.colored(f\"Layer {index} {param_type}\", attrs=[\"reverse\"]))\n",
    "    print(param)"
   ]
  },
  {
   "cell_type": "code",
   "execution_count": 49,
   "metadata": {},
   "outputs": [
    {
     "name": "stdout",
     "output_type": "stream",
     "text": [
      "\u001b[7mLayer 0\u001b[0m\n",
      "Linear(in_features=1, out_features=1, bias=False)\n",
      "Parameter containing:\n",
      "tensor([[2.0000]], requires_grad=True)\n",
      "None\n"
     ]
    }
   ],
   "source": [
    "# iterate through the layers of the network\n",
    "for index, child in enumerate(N.children()):\n",
    "    print(termcolor.colored(f\"Layer {index}\", attrs=[\"reverse\"]))\n",
    "    print(child)\n",
    "    print(child.weight)\n",
    "    print(child.bias)"
   ]
  },
  {
   "cell_type": "code",
   "execution_count": 50,
   "metadata": {},
   "outputs": [],
   "source": [
    "optimizer = optim.SGD(N.parameters(), lr=0.1)\n",
    "for x, y in zip(xs, ys):\n",
    "    y_hat = N(x.reshape(1))\n",
    "#     print(f\"x: {x}, y: {y}, y_hat: {y_hat}\")\n",
    "    loss = (y - y_hat) ** 2\n",
    "    loss.backward()\n",
    "    optimizer.step()\n",
    "    optimizer.zero_grad()"
   ]
  },
  {
   "cell_type": "code",
   "execution_count": 51,
   "metadata": {},
   "outputs": [],
   "source": [
    "x = torch.tensor([1., 2., 3.], requires_grad=True)"
   ]
  },
  {
   "cell_type": "code",
   "execution_count": 54,
   "metadata": {},
   "outputs": [],
   "source": [
    "x[2].backward()"
   ]
  },
  {
   "cell_type": "code",
   "execution_count": 55,
   "metadata": {},
   "outputs": [
    {
     "data": {
      "text/plain": [
       "tensor([0., 0., 1.])"
      ]
     },
     "execution_count": 55,
     "metadata": {},
     "output_type": "execute_result"
    }
   ],
   "source": [
    "x.grad"
   ]
  },
  {
   "cell_type": "code",
   "execution_count": null,
   "metadata": {},
   "outputs": [],
   "source": []
  }
 ],
 "metadata": {
  "kernelspec": {
   "display_name": "Python 3",
   "language": "python",
   "name": "python3"
  },
  "language_info": {
   "codemirror_mode": {
    "name": "ipython",
    "version": 3
   },
   "file_extension": ".py",
   "mimetype": "text/x-python",
   "name": "python",
   "nbconvert_exporter": "python",
   "pygments_lexer": "ipython3",
   "version": "3.7.5"
  }
 },
 "nbformat": 4,
 "nbformat_minor": 4
}
